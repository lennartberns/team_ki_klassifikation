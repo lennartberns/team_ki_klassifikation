{
 "cells": [
  {
   "cell_type": "code",
   "execution_count": null,
   "metadata": {},
   "outputs": [],
   "source": []
  }
 ],
 "metadata": {
  "kernelspec": {
   "display_name": "Python 3.10.6 ('ai_env')",
   "language": "python",
   "name": "python3"
  },
  "language_info": {
   "name": "python",
   "version": "3.10.6"
  },
  "orig_nbformat": 4,
  "vscode": {
   "interpreter": {
    "hash": "94beb9406c939b9e6207ae69cc86c71f84002df1fd55276142d66cde65912d9c"
   }
  }
 },
 "nbformat": 4,
 "nbformat_minor": 2
}
