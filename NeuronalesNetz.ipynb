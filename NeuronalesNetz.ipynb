{
 "cells": [
  {
   "cell_type": "markdown",
   "metadata": {},
   "source": [
    "# Import Bibliotheken"
   ]
  },
  {
   "cell_type": "code",
   "execution_count": 83,
   "metadata": {},
   "outputs": [],
   "source": [
    "# Festlegung des Device\n",
    "import platform\n",
    "\n",
    "# Laden der Daten\n",
    "from torch.utils.data import Dataset\n",
    "from torch.utils.data import DataLoader\n",
    "\n",
    "# Operationen mit Texten\n",
    "import torchtext\n",
    "from torchtext.data.utils import get_tokenizer\n",
    "from torchtext.vocab import build_vocab_from_iterator\n",
    "import spacy\n",
    "\n",
    "# Modell\n",
    "import torch\n",
    "import torch.nn as nn\n",
    "import torch.nn.functional as F\n",
    "from torch import optim\n",
    "\n",
    "# Evaluierung\n",
    "import torchmetrics\n",
    "\n",
    "# Auswertung der Evaluation\n",
    "import pandas as pd\n",
    "import altair as alt"
   ]
  },
  {
   "cell_type": "markdown",
   "metadata": {},
   "source": [
    "### Package Versionen"
   ]
  },
  {
   "cell_type": "code",
   "execution_count": 84,
   "metadata": {},
   "outputs": [
    {
     "name": "stdout",
     "output_type": "stream",
     "text": [
      "torchtext: 0.13.1\n",
      "torch: 1.12.1\n",
      "torchmetrics: 0.9.3\n",
      "spacy: 3.4.2\n",
      "altair: 4.2.0\n",
      "pandas: 1.4.3\n"
     ]
    }
   ],
   "source": [
    "for package in [torchtext,torch, torchmetrics, spacy, alt, pd]:\n",
    "    print(f'{package.__name__}: {package.__version__}')"
   ]
  },
  {
   "cell_type": "markdown",
   "metadata": {},
   "source": [
    "# Device Auswahl"
   ]
  },
  {
   "cell_type": "code",
   "execution_count": 85,
   "metadata": {},
   "outputs": [
    {
     "data": {
      "text/plain": [
       "device(type='cpu')"
      ]
     },
     "execution_count": 85,
     "metadata": {},
     "output_type": "execute_result"
    }
   ],
   "source": [
    "device = torch.device(\n",
    "    \"cuda:0\" if torch.cuda.is_available() else \"cpu\")\n",
    "device"
   ]
  },
  {
   "cell_type": "markdown",
   "metadata": {},
   "source": [
    "# Daten"
   ]
  },
  {
   "cell_type": "markdown",
   "metadata": {},
   "source": [
    "## Dataset"
   ]
  },
  {
   "cell_type": "markdown",
   "metadata": {},
   "source": [
    "### Erstellung Dataset"
   ]
  },
  {
   "cell_type": "code",
   "execution_count": 86,
   "metadata": {},
   "outputs": [
    {
     "data": {
      "text/html": [
       "<div>\n",
       "<style scoped>\n",
       "    .dataframe tbody tr th:only-of-type {\n",
       "        vertical-align: middle;\n",
       "    }\n",
       "\n",
       "    .dataframe tbody tr th {\n",
       "        vertical-align: top;\n",
       "    }\n",
       "\n",
       "    .dataframe thead th {\n",
       "        text-align: right;\n",
       "    }\n",
       "</style>\n",
       "<table border=\"1\" class=\"dataframe\">\n",
       "  <thead>\n",
       "    <tr style=\"text-align: right;\">\n",
       "      <th></th>\n",
       "      <th>Unnamed: 0</th>\n",
       "      <th>Tankstellenname</th>\n",
       "      <th>Datum</th>\n",
       "      <th>Bewertung</th>\n",
       "      <th>Kommentar</th>\n",
       "      <th>Kategorien</th>\n",
       "    </tr>\n",
       "  </thead>\n",
       "  <tbody>\n",
       "    <tr>\n",
       "      <th>0</th>\n",
       "      <td>4</td>\n",
       "      <td>TS Schleswig MC</td>\n",
       "      <td>2022-09-30 06:46:42</td>\n",
       "      <td>5</td>\n",
       "      <td>Super nettes Personal gutes Frühstück mit groß...</td>\n",
       "      <td>Personal, Shop, Bistro</td>\n",
       "    </tr>\n",
       "    <tr>\n",
       "      <th>1</th>\n",
       "      <td>5</td>\n",
       "      <td>TS Prisdorf</td>\n",
       "      <td>2022-09-29 17:22:44</td>\n",
       "      <td>5</td>\n",
       "      <td>Sehr höfliche Bedienstete Translated by Google...</td>\n",
       "      <td>Personal</td>\n",
       "    </tr>\n",
       "    <tr>\n",
       "      <th>2</th>\n",
       "      <td>6</td>\n",
       "      <td>TS Wanderup</td>\n",
       "      <td>2022-09-29 15:38:02</td>\n",
       "      <td>5</td>\n",
       "      <td>Immer gerne dort nettes und zuvorkommendes Per...</td>\n",
       "      <td>Personal, Waschanlage</td>\n",
       "    </tr>\n",
       "    <tr>\n",
       "      <th>3</th>\n",
       "      <td>10</td>\n",
       "      <td>TS Handewitt</td>\n",
       "      <td>2022-09-28 17:05:28</td>\n",
       "      <td>5</td>\n",
       "      <td>Nettes freundliches Personal Translated by Goo...</td>\n",
       "      <td>Personal</td>\n",
       "    </tr>\n",
       "    <tr>\n",
       "      <th>4</th>\n",
       "      <td>12</td>\n",
       "      <td>TS Bremen</td>\n",
       "      <td>2022-09-28 04:24:34</td>\n",
       "      <td>4</td>\n",
       "      <td>Normale Tankstelle die aber in der Tank App ni...</td>\n",
       "      <td>Pricing, Digital Fueling</td>\n",
       "    </tr>\n",
       "    <tr>\n",
       "      <th>...</th>\n",
       "      <td>...</td>\n",
       "      <td>...</td>\n",
       "      <td>...</td>\n",
       "      <td>...</td>\n",
       "      <td>...</td>\n",
       "      <td>...</td>\n",
       "    </tr>\n",
       "    <tr>\n",
       "      <th>3992</th>\n",
       "      <td>11072</td>\n",
       "      <td>TS Jübek</td>\n",
       "      <td>2015-04-07 17:45:02</td>\n",
       "      <td>5</td>\n",
       "      <td>Dies ist einfach die beste tankstelle die ich ...</td>\n",
       "      <td>Kraftstoffauswahl, Waschanlage</td>\n",
       "    </tr>\n",
       "    <tr>\n",
       "      <th>3993</th>\n",
       "      <td>11077</td>\n",
       "      <td>TS Jübek</td>\n",
       "      <td>2014-07-16 07:08:37</td>\n",
       "      <td>5</td>\n",
       "      <td>Sehr gut Günstig guter shop und einige andere ...</td>\n",
       "      <td>Pricing, Shop, Kraftstoffauswahl, Waschanlage,...</td>\n",
       "    </tr>\n",
       "    <tr>\n",
       "      <th>3994</th>\n",
       "      <td>11079</td>\n",
       "      <td>TS Neustadt am Rüb.</td>\n",
       "      <td>2013-09-21 15:26:28</td>\n",
       "      <td>5</td>\n",
       "      <td>Öffnungszeiten Mo So 06 00 22 00 Uhr</td>\n",
       "      <td>Öffnungszeiten</td>\n",
       "    </tr>\n",
       "    <tr>\n",
       "      <th>3995</th>\n",
       "      <td>11080</td>\n",
       "      <td>TS Handewitt(SP)</td>\n",
       "      <td>2012-11-05 11:16:00</td>\n",
       "      <td>5</td>\n",
       "      <td>genug platz fuer wohnwagen rechts beim autogas...</td>\n",
       "      <td>Personal, Kraftstoffauswahl</td>\n",
       "    </tr>\n",
       "    <tr>\n",
       "      <th>3996</th>\n",
       "      <td>11081</td>\n",
       "      <td>TS Handewitt(SP)</td>\n",
       "      <td>2011-07-26 17:42:28</td>\n",
       "      <td>4</td>\n",
       "      <td>Ideal um kurz vor Dänemark nochmal Günstig zu ...</td>\n",
       "      <td>Pricing</td>\n",
       "    </tr>\n",
       "  </tbody>\n",
       "</table>\n",
       "<p>3997 rows × 6 columns</p>\n",
       "</div>"
      ],
      "text/plain": [
       "      Unnamed: 0      Tankstellenname               Datum  Bewertung  \\\n",
       "0              4     TS Schleswig MC  2022-09-30 06:46:42          5   \n",
       "1              5          TS Prisdorf 2022-09-29 17:22:44          5   \n",
       "2              6          TS Wanderup 2022-09-29 15:38:02          5   \n",
       "3             10         TS Handewitt 2022-09-28 17:05:28          5   \n",
       "4             12            TS Bremen 2022-09-28 04:24:34          4   \n",
       "...          ...                  ...                 ...        ...   \n",
       "3992       11072             TS Jübek 2015-04-07 17:45:02          5   \n",
       "3993       11077             TS Jübek 2014-07-16 07:08:37          5   \n",
       "3994       11079  TS Neustadt am Rüb. 2013-09-21 15:26:28          5   \n",
       "3995       11080     TS Handewitt(SP) 2012-11-05 11:16:00          5   \n",
       "3996       11081     TS Handewitt(SP) 2011-07-26 17:42:28          4   \n",
       "\n",
       "                                              Kommentar  \\\n",
       "0     Super nettes Personal gutes Frühstück mit groß...   \n",
       "1     Sehr höfliche Bedienstete Translated by Google...   \n",
       "2     Immer gerne dort nettes und zuvorkommendes Per...   \n",
       "3     Nettes freundliches Personal Translated by Goo...   \n",
       "4     Normale Tankstelle die aber in der Tank App ni...   \n",
       "...                                                 ...   \n",
       "3992  Dies ist einfach die beste tankstelle die ich ...   \n",
       "3993  Sehr gut Günstig guter shop und einige andere ...   \n",
       "3994               Öffnungszeiten Mo So 06 00 22 00 Uhr   \n",
       "3995  genug platz fuer wohnwagen rechts beim autogas...   \n",
       "3996  Ideal um kurz vor Dänemark nochmal Günstig zu ...   \n",
       "\n",
       "                                             Kategorien  \n",
       "0                                Personal, Shop, Bistro  \n",
       "1                                              Personal  \n",
       "2                                 Personal, Waschanlage  \n",
       "3                                              Personal  \n",
       "4                              Pricing, Digital Fueling  \n",
       "...                                                 ...  \n",
       "3992                     Kraftstoffauswahl, Waschanlage  \n",
       "3993  Pricing, Shop, Kraftstoffauswahl, Waschanlage,...  \n",
       "3994                                     Öffnungszeiten  \n",
       "3995                        Personal, Kraftstoffauswahl  \n",
       "3996                                            Pricing  \n",
       "\n",
       "[3997 rows x 6 columns]"
      ]
     },
     "execution_count": 86,
     "metadata": {},
     "output_type": "execute_result"
    }
   ],
   "source": [
    "comment_df = pd.read_excel('data/clean/Google_Rezensionen.xlsx')\n",
    "comment_df"
   ]
  },
  {
   "cell_type": "code",
   "execution_count": 87,
   "metadata": {},
   "outputs": [],
   "source": [
    "class TeamGoogleBewertungenDataSet(Dataset):\n",
    "\n",
    "    def __init__(self, data):\n",
    "        self.data = data\n",
    "    \n",
    "    def __len__(self):\n",
    "        return len(self.data)\n",
    "\n",
    "    def __getitem__(self, index):\n",
    "        text = comment_df.iloc[index]['Kommentar']\n",
    "        category = comment_df.iloc[index]['Kategorien']\n",
    "        return text, category"
   ]
  },
  {
   "cell_type": "markdown",
   "metadata": {},
   "source": [
    "### Bestimmung Test- und Traningsdaten"
   ]
  },
  {
   "cell_type": "code",
   "execution_count": 88,
   "metadata": {},
   "outputs": [],
   "source": [
    "# Länge der Test- und Traningsdaten bestimmen\n",
    "dataset = TeamGoogleBewertungenDataSet(comment_df)\n",
    "len_train = round(len(dataset)* 0.7)\n",
    "len_test = round(len(dataset) * 0.3)\n",
    "assert len(comment_df) == len_train + len_test"
   ]
  },
  {
   "cell_type": "code",
   "execution_count": 89,
   "metadata": {},
   "outputs": [],
   "source": [
    "# Zufällige Aufsplittung der Anzahl von Test- und Trainingsdaten\n",
    "train_set, test_set = torch.utils.data.random_split(dataset, [len_train, len_test]) "
   ]
  },
  {
   "cell_type": "code",
   "execution_count": 90,
   "metadata": {},
   "outputs": [
    {
     "data": {
      "text/plain": [
       "('So wie eine Tankstelle sein muss Und relativ günstig ', 'Pricing')"
      ]
     },
     "execution_count": 90,
     "metadata": {},
     "output_type": "execute_result"
    }
   ],
   "source": [
    "next(iter(train_set))"
   ]
  },
  {
   "cell_type": "markdown",
   "metadata": {},
   "source": [
    "## Dataloader"
   ]
  },
  {
   "cell_type": "markdown",
   "metadata": {},
   "source": [
    "### Tokenisierung"
   ]
  },
  {
   "cell_type": "code",
   "execution_count": 91,
   "metadata": {},
   "outputs": [],
   "source": [
    "tokenizer = get_tokenizer(\n",
    "    'spacy', \n",
    "    language='de_core_news_lg')"
   ]
  },
  {
   "cell_type": "code",
   "execution_count": 92,
   "metadata": {},
   "outputs": [
    {
     "data": {
      "text/plain": [
       "['This', \"isn't\", 'a', 'very', 'long', 'example', '.']"
      ]
     },
     "execution_count": 92,
     "metadata": {},
     "output_type": "execute_result"
    }
   ],
   "source": [
    "# Beispiel für Anwendung des tokenizer\n",
    "sentence = \"This isn't a very long example.\"\n",
    "tokenizer(sentence)"
   ]
  },
  {
   "cell_type": "markdown",
   "metadata": {},
   "source": [
    "### Vokabular erstellen"
   ]
  },
  {
   "cell_type": "code",
   "execution_count": 93,
   "metadata": {},
   "outputs": [],
   "source": [
    "def yield_tokens(data_iter):\n",
    "    for text, _ in data_iter:\n",
    "        yield tokenizer(text)"
   ]
  },
  {
   "cell_type": "code",
   "execution_count": 94,
   "metadata": {},
   "outputs": [
    {
     "data": {
      "text/plain": [
       "2798"
      ]
     },
     "execution_count": 94,
     "metadata": {},
     "output_type": "execute_result"
    }
   ],
   "source": [
    "len(train_set)"
   ]
  },
  {
   "cell_type": "code",
   "execution_count": 95,
   "metadata": {},
   "outputs": [],
   "source": [
    "tokens = yield_tokens(train_set)"
   ]
  },
  {
   "cell_type": "code",
   "execution_count": 96,
   "metadata": {},
   "outputs": [
    {
     "data": {
      "text/plain": [
       "['So',\n",
       " 'wie',\n",
       " 'eine',\n",
       " 'Tankstelle',\n",
       " 'sein',\n",
       " 'muss',\n",
       " 'Und',\n",
       " 'relativ',\n",
       " 'günstig']"
      ]
     },
     "execution_count": 96,
     "metadata": {},
     "output_type": "execute_result"
    }
   ],
   "source": [
    "next(iter(tokens))"
   ]
  },
  {
   "cell_type": "code",
   "execution_count": 97,
   "metadata": {},
   "outputs": [],
   "source": [
    "vocab = build_vocab_from_iterator(tokens, min_freq=2, specials=[\"<unk>\"])\n",
    "\n",
    "vocab.set_default_index(vocab[\"<unk>\"])"
   ]
  },
  {
   "cell_type": "code",
   "execution_count": 98,
   "metadata": {},
   "outputs": [
    {
     "data": {
      "text/plain": [
       "3264"
      ]
     },
     "execution_count": 98,
     "metadata": {},
     "output_type": "execute_result"
    }
   ],
   "source": [
    "len(vocab)"
   ]
  },
  {
   "cell_type": "code",
   "execution_count": 99,
   "metadata": {},
   "outputs": [
    {
     "data": {
      "text/plain": [
       "[664, 8, 3]"
      ]
     },
     "execution_count": 99,
     "metadata": {},
     "output_type": "execute_result"
    }
   ],
   "source": [
    "vocab(['Hallo', 'sehr', 'Personal'])"
   ]
  },
  {
   "cell_type": "code",
   "execution_count": 100,
   "metadata": {},
   "outputs": [
    {
     "data": {
      "text/plain": [
       "'<unk>'"
      ]
     },
     "execution_count": 100,
     "metadata": {},
     "output_type": "execute_result"
    }
   ],
   "source": [
    "vocab.lookup_token(0)"
   ]
  },
  {
   "cell_type": "markdown",
   "metadata": {},
   "source": [
    "### Encoding"
   ]
  },
  {
   "cell_type": "code",
   "execution_count": 101,
   "metadata": {},
   "outputs": [],
   "source": [
    "# onehot = torch.zeros(1,len(vocab))"
   ]
  },
  {
   "cell_type": "code",
   "execution_count": 102,
   "metadata": {},
   "outputs": [
    {
     "data": {
      "text/plain": [
       "[59, 52, 60]"
      ]
     },
     "execution_count": 102,
     "metadata": {},
     "output_type": "execute_result"
    }
   ],
   "source": [
    "pos = vocab(['nette', 'Bedienung', 'sauber'])\n",
    "pos"
   ]
  },
  {
   "cell_type": "code",
   "execution_count": 103,
   "metadata": {},
   "outputs": [],
   "source": [
    "def encode(text, vocab):\n",
    "    tokens = tokenizer(text)\n",
    "    onehot = torch.zeros(1,len(vocab))\n",
    "    onehot[:,vocab(tokens)] = 1\n",
    "    return onehot"
   ]
  },
  {
   "cell_type": "markdown",
   "metadata": {},
   "source": [
    "### Vorverarbeitung Multilabel classification"
   ]
  },
  {
   "cell_type": "code",
   "execution_count": 104,
   "metadata": {},
   "outputs": [],
   "source": [
    "from sklearn.preprocessing import MultiLabelBinarizer"
   ]
  },
  {
   "cell_type": "code",
   "execution_count": 105,
   "metadata": {},
   "outputs": [],
   "source": [
    "multilabel = MultiLabelBinarizer()"
   ]
  },
  {
   "cell_type": "code",
   "execution_count": 106,
   "metadata": {},
   "outputs": [
    {
     "data": {
      "text/plain": [
       "str"
      ]
     },
     "execution_count": 106,
     "metadata": {},
     "output_type": "execute_result"
    }
   ],
   "source": [
    "type(comment_df['Kategorien'].iloc[0])"
   ]
  },
  {
   "cell_type": "code",
   "execution_count": 118,
   "metadata": {},
   "outputs": [
    {
     "name": "stdout",
     "output_type": "stream",
     "text": [
      "<class 'pandas.core.frame.DataFrame'>\n",
      "RangeIndex: 3997 entries, 0 to 3996\n",
      "Data columns (total 6 columns):\n",
      " #   Column           Non-Null Count  Dtype         \n",
      "---  ------           --------------  -----         \n",
      " 0   Unnamed: 0       3997 non-null   int64         \n",
      " 1   Tankstellenname  3997 non-null   object        \n",
      " 2   Datum            3997 non-null   datetime64[ns]\n",
      " 3   Bewertung        3997 non-null   int64         \n",
      " 4   Kommentar        3997 non-null   object        \n",
      " 5   Kategorien       3997 non-null   object        \n",
      "dtypes: datetime64[ns](1), int64(2), object(3)\n",
      "memory usage: 187.5+ KB\n"
     ]
    }
   ],
   "source": [
    "comment_df.info()"
   ]
  },
  {
   "cell_type": "code",
   "execution_count": 121,
   "metadata": {},
   "outputs": [
    {
     "name": "stdout",
     "output_type": "stream",
     "text": [
      "<class 'pandas.core.frame.DataFrame'>\n",
      "RangeIndex: 3997 entries, 0 to 3996\n",
      "Data columns (total 6 columns):\n",
      " #   Column           Non-Null Count  Dtype         \n",
      "---  ------           --------------  -----         \n",
      " 0   Unnamed: 0       3997 non-null   int64         \n",
      " 1   Tankstellenname  3997 non-null   object        \n",
      " 2   Datum            3997 non-null   datetime64[ns]\n",
      " 3   Bewertung        3997 non-null   int64         \n",
      " 4   Kommentar        3997 non-null   object        \n",
      " 5   Kategorien       3997 non-null   object        \n",
      "dtypes: datetime64[ns](1), int64(2), object(3)\n",
      "memory usage: 187.5+ KB\n"
     ]
    }
   ],
   "source": [
    "comment_df['Kategorien'] = comment_df['Kategorien'].astype('str')\n",
    "comment_df.info()"
   ]
  },
  {
   "cell_type": "code",
   "execution_count": null,
   "metadata": {},
   "outputs": [
    {
     "name": "stdout",
     "output_type": "stream",
     "text": [
      "tensor([[1., 1., 0., 0., 0., 1., 0., 0., 1., 0., 0., 0., 0., 0., 0., 0., 0., 0.,\n",
      "         0., 0., 0., 0., 0., 0.]])\n"
     ]
    }
   ],
   "source": [
    "labels = torch.tensor([1,5,8,0])\n",
    "labels = labels.unsqueeze(0)\n",
    "target = torch.zeros(labels.size(0), 24).scatter_(1, labels, 1.)\n",
    "print(target)"
   ]
  },
  {
   "cell_type": "markdown",
   "metadata": {},
   "source": [
    "### Erstellung Dataloader"
   ]
  },
  {
   "cell_type": "code",
   "execution_count": null,
   "metadata": {},
   "outputs": [],
   "source": [
    "label_pipeline = lambda x: int(x) -1"
   ]
  },
  {
   "cell_type": "code",
   "execution_count": null,
   "metadata": {},
   "outputs": [],
   "source": [
    "def collate_batch(batch):\n",
    "    label_list, text_list = [], []\n",
    " \n",
    "    for (_text,_label) in batch:\n",
    "    \n",
    "        # Vorverarbeitung der Label\n",
    "        label_list.append(label_pipeline(_label))\n",
    "        \n",
    "        # Vorverarbeitung der Texte\n",
    "        processed_text = encode(_text, vocab)\n",
    "        \n",
    "        # Zusammenführen sämtlicher Textrepräsentationen in einer Liste\n",
    "        text_list.append(processed_text)\n",
    " \n",
    "    # Zusammenführen aller Label in einem Tensor\n",
    "    labels = torch.tensor(label_list, dtype=torch.int64)\n",
    "    \n",
    "    # Verbinden der Tensoren in text_list zu einem Tensor\n",
    "    texts = torch.cat(text_list, dim = 0)\n",
    "    \n",
    "    # Ausgabe der Texte und der Label\n",
    "    return texts.to(device), labels.to(device)"
   ]
  },
  {
   "cell_type": "code",
   "execution_count": null,
   "metadata": {},
   "outputs": [],
   "source": [
    "train_loader = DataLoader(\n",
    " train_set, batch_size=64,\n",
    " shuffle=True,\n",
    " collate_fn=collate_batch,\n",
    " num_workers=0\n",
    ")"
   ]
  },
  {
   "cell_type": "markdown",
   "metadata": {},
   "source": [
    "## Architektur und Training"
   ]
  },
  {
   "cell_type": "markdown",
   "metadata": {},
   "source": [
    "### Architektur"
   ]
  },
  {
   "cell_type": "code",
   "execution_count": null,
   "metadata": {},
   "outputs": [],
   "source": [
    "class LinearTextClassificationModel(nn.Module):\n",
    "\n",
    "    def __init__(self, vocab_size, num_class):\n",
    "        super(LinearTextClassificationModel, self).__init__()\n",
    "        self.fc1 = nn.Linear(vocab_size, 200)\n",
    "        self.fc2 = nn.Linear(200, num_class)\n",
    "\n",
    "    def forward(self, x):\n",
    "        x = self.fc1(x)\n",
    "        x = F.relu(x)\n",
    "        x = self.fc2(x)\n",
    "        output = F.log_softmax(x, dim=1)\n",
    "        return output"
   ]
  },
  {
   "cell_type": "code",
   "execution_count": null,
   "metadata": {},
   "outputs": [],
   "source": [
    "vocab_size = len(vocab)\n",
    "num_class = 5\n",
    "model = LinearTextClassificationModel(vocab_size, num_class).to(device)"
   ]
  },
  {
   "cell_type": "markdown",
   "metadata": {},
   "source": [
    "### Training"
   ]
  },
  {
   "cell_type": "code",
   "execution_count": null,
   "metadata": {},
   "outputs": [],
   "source": [
    "# Hyperparameter\n",
    "\n",
    "## Festlegung Lernrate\n",
    "learning_rate = 0.05\n",
    "\n",
    "## Initialisierung Fehlerfunktion\n",
    "loss_fn = nn.CrossEntropyLoss()\n",
    "\n",
    "## Initialisierung Optimizer\n",
    "optimizer = torch.optim.SGD(model.parameters(),lr = learning_rate, momentum=0.9)\n",
    "\n",
    "## Definition der Epochen\n",
    "num_epochs = 20"
   ]
  },
  {
   "cell_type": "code",
   "execution_count": null,
   "metadata": {},
   "outputs": [],
   "source": [
    "train_accuracy = torchmetrics.Accuracy().to(device)\n",
    "\n",
    "loss_hist = {}\n",
    "accuracy_hist = {}"
   ]
  },
  {
   "cell_type": "markdown",
   "metadata": {},
   "source": [
    "### Training funktioniert nicht !!!"
   ]
  },
  {
   "cell_type": "code",
   "execution_count": null,
   "metadata": {},
   "outputs": [
    {
     "ename": "ValueError",
     "evalue": "invalid literal for int() with base 10: 'Personal'",
     "output_type": "error",
     "traceback": [
      "\u001b[1;31m---------------------------------------------------------------------------\u001b[0m",
      "\u001b[1;31mValueError\u001b[0m                                Traceback (most recent call last)",
      "\u001b[1;32mc:\\Users\\flori\\Documents\\KI\\ki_projekt\\team_ki_klassifikation\\NeuronalesNetz.ipynb Zelle 46\u001b[0m in \u001b[0;36m<cell line: 4>\u001b[1;34m()\u001b[0m\n\u001b[0;32m      <a href='vscode-notebook-cell:/c%3A/Users/flori/Documents/KI/ki_projekt/team_ki_klassifikation/NeuronalesNetz.ipynb#Y165sZmlsZQ%3D%3D?line=6'>7</a>\u001b[0m running_loss \u001b[39m=\u001b[39m \u001b[39m0.0\u001b[39m\n\u001b[0;32m      <a href='vscode-notebook-cell:/c%3A/Users/flori/Documents/KI/ki_projekt/team_ki_klassifikation/NeuronalesNetz.ipynb#Y165sZmlsZQ%3D%3D?line=7'>8</a>\u001b[0m num_batches \u001b[39m=\u001b[39m \u001b[39m0\u001b[39m\n\u001b[1;32m---> <a href='vscode-notebook-cell:/c%3A/Users/flori/Documents/KI/ki_projekt/team_ki_klassifikation/NeuronalesNetz.ipynb#Y165sZmlsZQ%3D%3D?line=9'>10</a>\u001b[0m \u001b[39mfor\u001b[39;00m (text, label) \u001b[39min\u001b[39;00m train_loader:\n\u001b[0;32m     <a href='vscode-notebook-cell:/c%3A/Users/flori/Documents/KI/ki_projekt/team_ki_klassifikation/NeuronalesNetz.ipynb#Y165sZmlsZQ%3D%3D?line=10'>11</a>\u001b[0m     num_batches \u001b[39m+\u001b[39m\u001b[39m=\u001b[39m \u001b[39m1\u001b[39m\n\u001b[0;32m     <a href='vscode-notebook-cell:/c%3A/Users/flori/Documents/KI/ki_projekt/team_ki_klassifikation/NeuronalesNetz.ipynb#Y165sZmlsZQ%3D%3D?line=11'>12</a>\u001b[0m     pred \u001b[39m=\u001b[39m model(text)\n",
      "File \u001b[1;32mc:\\Users\\flori\\anaconda3\\envs\\ki_env\\lib\\site-packages\\torch\\utils\\data\\dataloader.py:681\u001b[0m, in \u001b[0;36m_BaseDataLoaderIter.__next__\u001b[1;34m(self)\u001b[0m\n\u001b[0;32m    678\u001b[0m \u001b[39mif\u001b[39;00m \u001b[39mself\u001b[39m\u001b[39m.\u001b[39m_sampler_iter \u001b[39mis\u001b[39;00m \u001b[39mNone\u001b[39;00m:\n\u001b[0;32m    679\u001b[0m     \u001b[39m# TODO(https://github.com/pytorch/pytorch/issues/76750)\u001b[39;00m\n\u001b[0;32m    680\u001b[0m     \u001b[39mself\u001b[39m\u001b[39m.\u001b[39m_reset()  \u001b[39m# type: ignore[call-arg]\u001b[39;00m\n\u001b[1;32m--> 681\u001b[0m data \u001b[39m=\u001b[39m \u001b[39mself\u001b[39;49m\u001b[39m.\u001b[39;49m_next_data()\n\u001b[0;32m    682\u001b[0m \u001b[39mself\u001b[39m\u001b[39m.\u001b[39m_num_yielded \u001b[39m+\u001b[39m\u001b[39m=\u001b[39m \u001b[39m1\u001b[39m\n\u001b[0;32m    683\u001b[0m \u001b[39mif\u001b[39;00m \u001b[39mself\u001b[39m\u001b[39m.\u001b[39m_dataset_kind \u001b[39m==\u001b[39m _DatasetKind\u001b[39m.\u001b[39mIterable \u001b[39mand\u001b[39;00m \\\n\u001b[0;32m    684\u001b[0m         \u001b[39mself\u001b[39m\u001b[39m.\u001b[39m_IterableDataset_len_called \u001b[39mis\u001b[39;00m \u001b[39mnot\u001b[39;00m \u001b[39mNone\u001b[39;00m \u001b[39mand\u001b[39;00m \\\n\u001b[0;32m    685\u001b[0m         \u001b[39mself\u001b[39m\u001b[39m.\u001b[39m_num_yielded \u001b[39m>\u001b[39m \u001b[39mself\u001b[39m\u001b[39m.\u001b[39m_IterableDataset_len_called:\n",
      "File \u001b[1;32mc:\\Users\\flori\\anaconda3\\envs\\ki_env\\lib\\site-packages\\torch\\utils\\data\\dataloader.py:721\u001b[0m, in \u001b[0;36m_SingleProcessDataLoaderIter._next_data\u001b[1;34m(self)\u001b[0m\n\u001b[0;32m    719\u001b[0m \u001b[39mdef\u001b[39;00m \u001b[39m_next_data\u001b[39m(\u001b[39mself\u001b[39m):\n\u001b[0;32m    720\u001b[0m     index \u001b[39m=\u001b[39m \u001b[39mself\u001b[39m\u001b[39m.\u001b[39m_next_index()  \u001b[39m# may raise StopIteration\u001b[39;00m\n\u001b[1;32m--> 721\u001b[0m     data \u001b[39m=\u001b[39m \u001b[39mself\u001b[39;49m\u001b[39m.\u001b[39;49m_dataset_fetcher\u001b[39m.\u001b[39;49mfetch(index)  \u001b[39m# may raise StopIteration\u001b[39;00m\n\u001b[0;32m    722\u001b[0m     \u001b[39mif\u001b[39;00m \u001b[39mself\u001b[39m\u001b[39m.\u001b[39m_pin_memory:\n\u001b[0;32m    723\u001b[0m         data \u001b[39m=\u001b[39m _utils\u001b[39m.\u001b[39mpin_memory\u001b[39m.\u001b[39mpin_memory(data, \u001b[39mself\u001b[39m\u001b[39m.\u001b[39m_pin_memory_device)\n",
      "File \u001b[1;32mc:\\Users\\flori\\anaconda3\\envs\\ki_env\\lib\\site-packages\\torch\\utils\\data\\_utils\\fetch.py:52\u001b[0m, in \u001b[0;36m_MapDatasetFetcher.fetch\u001b[1;34m(self, possibly_batched_index)\u001b[0m\n\u001b[0;32m     50\u001b[0m \u001b[39melse\u001b[39;00m:\n\u001b[0;32m     51\u001b[0m     data \u001b[39m=\u001b[39m \u001b[39mself\u001b[39m\u001b[39m.\u001b[39mdataset[possibly_batched_index]\n\u001b[1;32m---> 52\u001b[0m \u001b[39mreturn\u001b[39;00m \u001b[39mself\u001b[39;49m\u001b[39m.\u001b[39;49mcollate_fn(data)\n",
      "\u001b[1;32mc:\\Users\\flori\\Documents\\KI\\ki_projekt\\team_ki_klassifikation\\NeuronalesNetz.ipynb Zelle 46\u001b[0m in \u001b[0;36mcollate_batch\u001b[1;34m(batch)\u001b[0m\n\u001b[0;32m      <a href='vscode-notebook-cell:/c%3A/Users/flori/Documents/KI/ki_projekt/team_ki_klassifikation/NeuronalesNetz.ipynb#Y165sZmlsZQ%3D%3D?line=1'>2</a>\u001b[0m label_list, text_list \u001b[39m=\u001b[39m [], []\n\u001b[0;32m      <a href='vscode-notebook-cell:/c%3A/Users/flori/Documents/KI/ki_projekt/team_ki_klassifikation/NeuronalesNetz.ipynb#Y165sZmlsZQ%3D%3D?line=3'>4</a>\u001b[0m \u001b[39mfor\u001b[39;00m (_text,_label) \u001b[39min\u001b[39;00m batch:\n\u001b[0;32m      <a href='vscode-notebook-cell:/c%3A/Users/flori/Documents/KI/ki_projekt/team_ki_klassifikation/NeuronalesNetz.ipynb#Y165sZmlsZQ%3D%3D?line=4'>5</a>\u001b[0m \n\u001b[0;32m      <a href='vscode-notebook-cell:/c%3A/Users/flori/Documents/KI/ki_projekt/team_ki_klassifikation/NeuronalesNetz.ipynb#Y165sZmlsZQ%3D%3D?line=5'>6</a>\u001b[0m     \u001b[39m# Vorverarbeitung der Label\u001b[39;00m\n\u001b[1;32m----> <a href='vscode-notebook-cell:/c%3A/Users/flori/Documents/KI/ki_projekt/team_ki_klassifikation/NeuronalesNetz.ipynb#Y165sZmlsZQ%3D%3D?line=6'>7</a>\u001b[0m     label_list\u001b[39m.\u001b[39mappend(label_pipeline(_label))\n\u001b[0;32m      <a href='vscode-notebook-cell:/c%3A/Users/flori/Documents/KI/ki_projekt/team_ki_klassifikation/NeuronalesNetz.ipynb#Y165sZmlsZQ%3D%3D?line=8'>9</a>\u001b[0m     \u001b[39m# Vorverarbeitung der Texte\u001b[39;00m\n\u001b[0;32m     <a href='vscode-notebook-cell:/c%3A/Users/flori/Documents/KI/ki_projekt/team_ki_klassifikation/NeuronalesNetz.ipynb#Y165sZmlsZQ%3D%3D?line=9'>10</a>\u001b[0m     processed_text \u001b[39m=\u001b[39m encode(_text, vocab)\n",
      "\u001b[1;32mc:\\Users\\flori\\Documents\\KI\\ki_projekt\\team_ki_klassifikation\\NeuronalesNetz.ipynb Zelle 46\u001b[0m in \u001b[0;36m<lambda>\u001b[1;34m(x)\u001b[0m\n\u001b[1;32m----> <a href='vscode-notebook-cell:/c%3A/Users/flori/Documents/KI/ki_projekt/team_ki_klassifikation/NeuronalesNetz.ipynb#Y165sZmlsZQ%3D%3D?line=0'>1</a>\u001b[0m label_pipeline \u001b[39m=\u001b[39m \u001b[39mlambda\u001b[39;00m x: \u001b[39mint\u001b[39;49m(x) \u001b[39m-\u001b[39m\u001b[39m1\u001b[39m\n",
      "\u001b[1;31mValueError\u001b[0m: invalid literal for int() with base 10: 'Personal'"
     ]
    }
   ],
   "source": [
    "# Training\n",
    "model.train()\n",
    "\n",
    "for epoch in range(num_epochs):\n",
    "\n",
    "    # Dokumentation Loss -> Erkennung ob Netz konvergiert\n",
    "    running_loss = 0.0\n",
    "    num_batches = 0\n",
    "\n",
    "    for (text, label) in train_loader:\n",
    "        num_batches += 1\n",
    "        pred = model(text)\n",
    "        # Der Fehler wird berechnet\n",
    "        loss = loss_fn(pred, label)\n",
    "        # Der Fehler wird über das Netz zurückpropagiert\n",
    "        loss.backward()\n",
    "        # Die Gewichte werden angepasst\n",
    "        optimizer.step()\n",
    "        # Gradienten zurücksetzen\n",
    "        optimizer.zero_grad()\n",
    "        ## Bestimmung der Accuracy für den Batch\n",
    "        train_accuracy(pred, label)\n",
    "        \n",
    "        # running loss\n",
    "        running_loss +=loss.item()\n",
    " \n",
    "    loss_hist[epoch] = running_loss/num_batches\n",
    " \n",
    "    batch_train_accuracy = train_accuracy.compute()\n",
    "    print(f\"Training Accuracy for epoch {epoch}:{batch_train_accuracy}\")\n",
    "    accuracy_hist[epoch] = batch_train_accuracy.cpu().item()\n",
    "    train_accuracy.reset()"
   ]
  },
  {
   "cell_type": "markdown",
   "metadata": {},
   "source": [
    "### Auswertung Fehlerentwicklung"
   ]
  },
  {
   "cell_type": "code",
   "execution_count": null,
   "metadata": {},
   "outputs": [
    {
     "ename": "ValueError",
     "evalue": "Length mismatch: Expected axis has 1 elements, new values have 2 elements",
     "output_type": "error",
     "traceback": [
      "\u001b[1;31m---------------------------------------------------------------------------\u001b[0m",
      "\u001b[1;31mValueError\u001b[0m                                Traceback (most recent call last)",
      "\u001b[1;32mc:\\Users\\flori\\Documents\\KI\\ki_projekt\\team_ki_klassifikation\\NeuronalesNetz.ipynb Zelle 45\u001b[0m in \u001b[0;36m<cell line: 3>\u001b[1;34m()\u001b[0m\n\u001b[0;32m      <a href='vscode-notebook-cell:/c%3A/Users/flori/Documents/KI/ki_projekt/team_ki_klassifikation/NeuronalesNetz.ipynb#Y113sZmlsZQ%3D%3D?line=0'>1</a>\u001b[0m loss_df \u001b[39m=\u001b[39m pd\u001b[39m.\u001b[39mDataFrame\u001b[39m.\u001b[39mfrom_dict(loss_hist, orient\u001b[39m=\u001b[39m \u001b[39m'\u001b[39m\u001b[39mindex\u001b[39m\u001b[39m'\u001b[39m)\u001b[39m.\u001b[39mreset_index()\n\u001b[1;32m----> <a href='vscode-notebook-cell:/c%3A/Users/flori/Documents/KI/ki_projekt/team_ki_klassifikation/NeuronalesNetz.ipynb#Y113sZmlsZQ%3D%3D?line=2'>3</a>\u001b[0m loss_df\u001b[39m.\u001b[39mcolumns \u001b[39m=\u001b[39m [\u001b[39m'\u001b[39m\u001b[39mEpoch\u001b[39m\u001b[39m'\u001b[39m, \u001b[39m'\u001b[39m\u001b[39mLoss\u001b[39m\u001b[39m'\u001b[39m]\n\u001b[0;32m      <a href='vscode-notebook-cell:/c%3A/Users/flori/Documents/KI/ki_projekt/team_ki_klassifikation/NeuronalesNetz.ipynb#Y113sZmlsZQ%3D%3D?line=3'>4</a>\u001b[0m loss_df\u001b[39m.\u001b[39mhead()\n",
      "File \u001b[1;32mc:\\Users\\flori\\anaconda3\\envs\\ki_env\\lib\\site-packages\\pandas\\core\\generic.py:5588\u001b[0m, in \u001b[0;36mNDFrame.__setattr__\u001b[1;34m(self, name, value)\u001b[0m\n\u001b[0;32m   5586\u001b[0m \u001b[39mtry\u001b[39;00m:\n\u001b[0;32m   5587\u001b[0m     \u001b[39mobject\u001b[39m\u001b[39m.\u001b[39m\u001b[39m__getattribute__\u001b[39m(\u001b[39mself\u001b[39m, name)\n\u001b[1;32m-> 5588\u001b[0m     \u001b[39mreturn\u001b[39;00m \u001b[39mobject\u001b[39;49m\u001b[39m.\u001b[39;49m\u001b[39m__setattr__\u001b[39;49m(\u001b[39mself\u001b[39;49m, name, value)\n\u001b[0;32m   5589\u001b[0m \u001b[39mexcept\u001b[39;00m \u001b[39mAttributeError\u001b[39;00m:\n\u001b[0;32m   5590\u001b[0m     \u001b[39mpass\u001b[39;00m\n",
      "File \u001b[1;32mc:\\Users\\flori\\anaconda3\\envs\\ki_env\\lib\\site-packages\\pandas\\_libs\\properties.pyx:70\u001b[0m, in \u001b[0;36mpandas._libs.properties.AxisProperty.__set__\u001b[1;34m()\u001b[0m\n",
      "File \u001b[1;32mc:\\Users\\flori\\anaconda3\\envs\\ki_env\\lib\\site-packages\\pandas\\core\\generic.py:769\u001b[0m, in \u001b[0;36mNDFrame._set_axis\u001b[1;34m(self, axis, labels)\u001b[0m\n\u001b[0;32m    767\u001b[0m \u001b[39mdef\u001b[39;00m \u001b[39m_set_axis\u001b[39m(\u001b[39mself\u001b[39m, axis: \u001b[39mint\u001b[39m, labels: Index) \u001b[39m-\u001b[39m\u001b[39m>\u001b[39m \u001b[39mNone\u001b[39;00m:\n\u001b[0;32m    768\u001b[0m     labels \u001b[39m=\u001b[39m ensure_index(labels)\n\u001b[1;32m--> 769\u001b[0m     \u001b[39mself\u001b[39;49m\u001b[39m.\u001b[39;49m_mgr\u001b[39m.\u001b[39;49mset_axis(axis, labels)\n\u001b[0;32m    770\u001b[0m     \u001b[39mself\u001b[39m\u001b[39m.\u001b[39m_clear_item_cache()\n",
      "File \u001b[1;32mc:\\Users\\flori\\anaconda3\\envs\\ki_env\\lib\\site-packages\\pandas\\core\\internals\\managers.py:214\u001b[0m, in \u001b[0;36mBaseBlockManager.set_axis\u001b[1;34m(self, axis, new_labels)\u001b[0m\n\u001b[0;32m    212\u001b[0m \u001b[39mdef\u001b[39;00m \u001b[39mset_axis\u001b[39m(\u001b[39mself\u001b[39m, axis: \u001b[39mint\u001b[39m, new_labels: Index) \u001b[39m-\u001b[39m\u001b[39m>\u001b[39m \u001b[39mNone\u001b[39;00m:\n\u001b[0;32m    213\u001b[0m     \u001b[39m# Caller is responsible for ensuring we have an Index object.\u001b[39;00m\n\u001b[1;32m--> 214\u001b[0m     \u001b[39mself\u001b[39;49m\u001b[39m.\u001b[39;49m_validate_set_axis(axis, new_labels)\n\u001b[0;32m    215\u001b[0m     \u001b[39mself\u001b[39m\u001b[39m.\u001b[39maxes[axis] \u001b[39m=\u001b[39m new_labels\n",
      "File \u001b[1;32mc:\\Users\\flori\\anaconda3\\envs\\ki_env\\lib\\site-packages\\pandas\\core\\internals\\base.py:69\u001b[0m, in \u001b[0;36mDataManager._validate_set_axis\u001b[1;34m(self, axis, new_labels)\u001b[0m\n\u001b[0;32m     66\u001b[0m     \u001b[39mpass\u001b[39;00m\n\u001b[0;32m     68\u001b[0m \u001b[39melif\u001b[39;00m new_len \u001b[39m!=\u001b[39m old_len:\n\u001b[1;32m---> 69\u001b[0m     \u001b[39mraise\u001b[39;00m \u001b[39mValueError\u001b[39;00m(\n\u001b[0;32m     70\u001b[0m         \u001b[39mf\u001b[39m\u001b[39m\"\u001b[39m\u001b[39mLength mismatch: Expected axis has \u001b[39m\u001b[39m{\u001b[39;00mold_len\u001b[39m}\u001b[39;00m\u001b[39m elements, new \u001b[39m\u001b[39m\"\u001b[39m\n\u001b[0;32m     71\u001b[0m         \u001b[39mf\u001b[39m\u001b[39m\"\u001b[39m\u001b[39mvalues have \u001b[39m\u001b[39m{\u001b[39;00mnew_len\u001b[39m}\u001b[39;00m\u001b[39m elements\u001b[39m\u001b[39m\"\u001b[39m\n\u001b[0;32m     72\u001b[0m     )\n",
      "\u001b[1;31mValueError\u001b[0m: Length mismatch: Expected axis has 1 elements, new values have 2 elements"
     ]
    }
   ],
   "source": [
    "loss_df = pd.DataFrame.from_dict(loss_hist, orient= 'index').reset_index()\n",
    "\n",
    "loss_df.columns = ['Epoch', 'Loss']\n",
    "loss_df.head()"
   ]
  },
  {
   "cell_type": "code",
   "execution_count": null,
   "metadata": {},
   "outputs": [],
   "source": [
    "train_chart = alt.Chart(loss_df).mark_line().encode(\n",
    "    x=alt.X('Epoch', title = 'Anzahl Epochen'),\n",
    "    y=alt.Y('Loss', title = 'Mittlerer Fehler')\n",
    ")\n",
    "# glue('train-loss-team', train_chart,display=True)"
   ]
  },
  {
   "cell_type": "markdown",
   "metadata": {},
   "source": [
    "### Auswertung Genauigkeit"
   ]
  },
  {
   "cell_type": "code",
   "execution_count": null,
   "metadata": {},
   "outputs": [
    {
     "ename": "ValueError",
     "evalue": "Length mismatch: Expected axis has 1 elements, new values have 2 elements",
     "output_type": "error",
     "traceback": [
      "\u001b[1;31m---------------------------------------------------------------------------\u001b[0m",
      "\u001b[1;31mValueError\u001b[0m                                Traceback (most recent call last)",
      "\u001b[1;32mc:\\Users\\flori\\Documents\\KI\\ki_projekt\\team_ki_klassifikation\\NeuronalesNetz.ipynb Zelle 49\u001b[0m in \u001b[0;36m<cell line: 2>\u001b[1;34m()\u001b[0m\n\u001b[0;32m      <a href='vscode-notebook-cell:/c%3A/Users/flori/Documents/KI/ki_projekt/team_ki_klassifikation/NeuronalesNetz.ipynb#Y116sZmlsZQ%3D%3D?line=0'>1</a>\u001b[0m accuracy_df \u001b[39m=\u001b[39m pd\u001b[39m.\u001b[39mDataFrame\u001b[39m.\u001b[39mfrom_dict(accuracy_hist, orient \u001b[39m=\u001b[39m \u001b[39m'\u001b[39m\u001b[39mindex\u001b[39m\u001b[39m'\u001b[39m)\u001b[39m.\u001b[39mreset_index()\n\u001b[1;32m----> <a href='vscode-notebook-cell:/c%3A/Users/flori/Documents/KI/ki_projekt/team_ki_klassifikation/NeuronalesNetz.ipynb#Y116sZmlsZQ%3D%3D?line=1'>2</a>\u001b[0m accuracy_df\u001b[39m.\u001b[39mcolumns \u001b[39m=\u001b[39m [\u001b[39m'\u001b[39m\u001b[39mEpoch\u001b[39m\u001b[39m'\u001b[39m, \u001b[39m'\u001b[39m\u001b[39mAccuracy\u001b[39m\u001b[39m'\u001b[39m]\n\u001b[0;32m      <a href='vscode-notebook-cell:/c%3A/Users/flori/Documents/KI/ki_projekt/team_ki_klassifikation/NeuronalesNetz.ipynb#Y116sZmlsZQ%3D%3D?line=2'>3</a>\u001b[0m accuracy_df\u001b[39m.\u001b[39mhead()\n",
      "File \u001b[1;32mc:\\Users\\flori\\anaconda3\\envs\\ki_env\\lib\\site-packages\\pandas\\core\\generic.py:5588\u001b[0m, in \u001b[0;36mNDFrame.__setattr__\u001b[1;34m(self, name, value)\u001b[0m\n\u001b[0;32m   5586\u001b[0m \u001b[39mtry\u001b[39;00m:\n\u001b[0;32m   5587\u001b[0m     \u001b[39mobject\u001b[39m\u001b[39m.\u001b[39m\u001b[39m__getattribute__\u001b[39m(\u001b[39mself\u001b[39m, name)\n\u001b[1;32m-> 5588\u001b[0m     \u001b[39mreturn\u001b[39;00m \u001b[39mobject\u001b[39;49m\u001b[39m.\u001b[39;49m\u001b[39m__setattr__\u001b[39;49m(\u001b[39mself\u001b[39;49m, name, value)\n\u001b[0;32m   5589\u001b[0m \u001b[39mexcept\u001b[39;00m \u001b[39mAttributeError\u001b[39;00m:\n\u001b[0;32m   5590\u001b[0m     \u001b[39mpass\u001b[39;00m\n",
      "File \u001b[1;32mc:\\Users\\flori\\anaconda3\\envs\\ki_env\\lib\\site-packages\\pandas\\_libs\\properties.pyx:70\u001b[0m, in \u001b[0;36mpandas._libs.properties.AxisProperty.__set__\u001b[1;34m()\u001b[0m\n",
      "File \u001b[1;32mc:\\Users\\flori\\anaconda3\\envs\\ki_env\\lib\\site-packages\\pandas\\core\\generic.py:769\u001b[0m, in \u001b[0;36mNDFrame._set_axis\u001b[1;34m(self, axis, labels)\u001b[0m\n\u001b[0;32m    767\u001b[0m \u001b[39mdef\u001b[39;00m \u001b[39m_set_axis\u001b[39m(\u001b[39mself\u001b[39m, axis: \u001b[39mint\u001b[39m, labels: Index) \u001b[39m-\u001b[39m\u001b[39m>\u001b[39m \u001b[39mNone\u001b[39;00m:\n\u001b[0;32m    768\u001b[0m     labels \u001b[39m=\u001b[39m ensure_index(labels)\n\u001b[1;32m--> 769\u001b[0m     \u001b[39mself\u001b[39;49m\u001b[39m.\u001b[39;49m_mgr\u001b[39m.\u001b[39;49mset_axis(axis, labels)\n\u001b[0;32m    770\u001b[0m     \u001b[39mself\u001b[39m\u001b[39m.\u001b[39m_clear_item_cache()\n",
      "File \u001b[1;32mc:\\Users\\flori\\anaconda3\\envs\\ki_env\\lib\\site-packages\\pandas\\core\\internals\\managers.py:214\u001b[0m, in \u001b[0;36mBaseBlockManager.set_axis\u001b[1;34m(self, axis, new_labels)\u001b[0m\n\u001b[0;32m    212\u001b[0m \u001b[39mdef\u001b[39;00m \u001b[39mset_axis\u001b[39m(\u001b[39mself\u001b[39m, axis: \u001b[39mint\u001b[39m, new_labels: Index) \u001b[39m-\u001b[39m\u001b[39m>\u001b[39m \u001b[39mNone\u001b[39;00m:\n\u001b[0;32m    213\u001b[0m     \u001b[39m# Caller is responsible for ensuring we have an Index object.\u001b[39;00m\n\u001b[1;32m--> 214\u001b[0m     \u001b[39mself\u001b[39;49m\u001b[39m.\u001b[39;49m_validate_set_axis(axis, new_labels)\n\u001b[0;32m    215\u001b[0m     \u001b[39mself\u001b[39m\u001b[39m.\u001b[39maxes[axis] \u001b[39m=\u001b[39m new_labels\n",
      "File \u001b[1;32mc:\\Users\\flori\\anaconda3\\envs\\ki_env\\lib\\site-packages\\pandas\\core\\internals\\base.py:69\u001b[0m, in \u001b[0;36mDataManager._validate_set_axis\u001b[1;34m(self, axis, new_labels)\u001b[0m\n\u001b[0;32m     66\u001b[0m     \u001b[39mpass\u001b[39;00m\n\u001b[0;32m     68\u001b[0m \u001b[39melif\u001b[39;00m new_len \u001b[39m!=\u001b[39m old_len:\n\u001b[1;32m---> 69\u001b[0m     \u001b[39mraise\u001b[39;00m \u001b[39mValueError\u001b[39;00m(\n\u001b[0;32m     70\u001b[0m         \u001b[39mf\u001b[39m\u001b[39m\"\u001b[39m\u001b[39mLength mismatch: Expected axis has \u001b[39m\u001b[39m{\u001b[39;00mold_len\u001b[39m}\u001b[39;00m\u001b[39m elements, new \u001b[39m\u001b[39m\"\u001b[39m\n\u001b[0;32m     71\u001b[0m         \u001b[39mf\u001b[39m\u001b[39m\"\u001b[39m\u001b[39mvalues have \u001b[39m\u001b[39m{\u001b[39;00mnew_len\u001b[39m}\u001b[39;00m\u001b[39m elements\u001b[39m\u001b[39m\"\u001b[39m\n\u001b[0;32m     72\u001b[0m     )\n",
      "\u001b[1;31mValueError\u001b[0m: Length mismatch: Expected axis has 1 elements, new values have 2 elements"
     ]
    }
   ],
   "source": [
    "accuracy_df = pd.DataFrame.from_dict(accuracy_hist, orient = 'index').reset_index()\n",
    "accuracy_df.columns = ['Epoch', 'Accuracy']\n",
    "accuracy_df.head()"
   ]
  },
  {
   "cell_type": "code",
   "execution_count": null,
   "metadata": {},
   "outputs": [],
   "source": [
    "accuracy_chart = alt.Chart(accuracy_df).mark_line().encode(\n",
    "    x=alt.X('Epoch',title = 'Anzahl Epochen'),\n",
    "    y=alt.Y('Accuracy', title = 'Genauigkeit')\n",
    ")"
   ]
  },
  {
   "cell_type": "markdown",
   "metadata": {},
   "source": [
    "## Evaluierung"
   ]
  },
  {
   "cell_type": "code",
   "execution_count": null,
   "metadata": {},
   "outputs": [
    {
     "data": {
      "text/plain": [
       "LinearTextClassificationModel(\n",
       "  (fc1): Linear(in_features=3247, out_features=200, bias=True)\n",
       "  (fc2): Linear(in_features=200, out_features=5, bias=True)\n",
       ")"
      ]
     },
     "execution_count": 365,
     "metadata": {},
     "output_type": "execute_result"
    }
   ],
   "source": [
    "model.eval()"
   ]
  },
  {
   "cell_type": "markdown",
   "metadata": {},
   "source": [
    "### Gesamtevaluierung"
   ]
  },
  {
   "cell_type": "code",
   "execution_count": null,
   "metadata": {},
   "outputs": [],
   "source": [
    "test_loader = DataLoader(test_set, batch_size= 64, shuffle=True,collate_fn=collate_batch)"
   ]
  },
  {
   "cell_type": "code",
   "execution_count": null,
   "metadata": {},
   "outputs": [
    {
     "ename": "ValueError",
     "evalue": "invalid literal for int() with base 10: 'Shop, Bistro'",
     "output_type": "error",
     "traceback": [
      "\u001b[1;31m---------------------------------------------------------------------------\u001b[0m",
      "\u001b[1;31mValueError\u001b[0m                                Traceback (most recent call last)",
      "\u001b[1;32mc:\\Users\\flori\\Documents\\KI\\ki_projekt\\team_ki_klassifikation\\NeuronalesNetz.ipynb Zelle 57\u001b[0m in \u001b[0;36m<cell line: 3>\u001b[1;34m()\u001b[0m\n\u001b[0;32m      <a href='vscode-notebook-cell:/c%3A/Users/flori/Documents/KI/ki_projekt/team_ki_klassifikation/NeuronalesNetz.ipynb#Y205sZmlsZQ%3D%3D?line=0'>1</a>\u001b[0m valid_accuracy \u001b[39m=\u001b[39m torchmetrics\u001b[39m.\u001b[39mAccuracy()\u001b[39m.\u001b[39mto(device)\n\u001b[0;32m      <a href='vscode-notebook-cell:/c%3A/Users/flori/Documents/KI/ki_projekt/team_ki_klassifikation/NeuronalesNetz.ipynb#Y205sZmlsZQ%3D%3D?line=2'>3</a>\u001b[0m \u001b[39mwith\u001b[39;00m torch\u001b[39m.\u001b[39mno_grad():\n\u001b[1;32m----> <a href='vscode-notebook-cell:/c%3A/Users/flori/Documents/KI/ki_projekt/team_ki_klassifikation/NeuronalesNetz.ipynb#Y205sZmlsZQ%3D%3D?line=3'>4</a>\u001b[0m     \u001b[39mfor\u001b[39;00m (text, label) \u001b[39min\u001b[39;00m test_loader:\n\u001b[0;32m      <a href='vscode-notebook-cell:/c%3A/Users/flori/Documents/KI/ki_projekt/team_ki_klassifikation/NeuronalesNetz.ipynb#Y205sZmlsZQ%3D%3D?line=4'>5</a>\u001b[0m         \u001b[39m# Vorhersage wird für das Model erzeugt\u001b[39;00m\n\u001b[0;32m      <a href='vscode-notebook-cell:/c%3A/Users/flori/Documents/KI/ki_projekt/team_ki_klassifikation/NeuronalesNetz.ipynb#Y205sZmlsZQ%3D%3D?line=5'>6</a>\u001b[0m         pred \u001b[39m=\u001b[39m model(text)\n\u001b[0;32m      <a href='vscode-notebook-cell:/c%3A/Users/flori/Documents/KI/ki_projekt/team_ki_klassifikation/NeuronalesNetz.ipynb#Y205sZmlsZQ%3D%3D?line=6'>7</a>\u001b[0m         valid_accuracy\u001b[39m.\u001b[39mupdate(pred, label)\n",
      "File \u001b[1;32mc:\\Users\\flori\\anaconda3\\envs\\ki_env\\lib\\site-packages\\torch\\utils\\data\\dataloader.py:681\u001b[0m, in \u001b[0;36m_BaseDataLoaderIter.__next__\u001b[1;34m(self)\u001b[0m\n\u001b[0;32m    678\u001b[0m \u001b[39mif\u001b[39;00m \u001b[39mself\u001b[39m\u001b[39m.\u001b[39m_sampler_iter \u001b[39mis\u001b[39;00m \u001b[39mNone\u001b[39;00m:\n\u001b[0;32m    679\u001b[0m     \u001b[39m# TODO(https://github.com/pytorch/pytorch/issues/76750)\u001b[39;00m\n\u001b[0;32m    680\u001b[0m     \u001b[39mself\u001b[39m\u001b[39m.\u001b[39m_reset()  \u001b[39m# type: ignore[call-arg]\u001b[39;00m\n\u001b[1;32m--> 681\u001b[0m data \u001b[39m=\u001b[39m \u001b[39mself\u001b[39;49m\u001b[39m.\u001b[39;49m_next_data()\n\u001b[0;32m    682\u001b[0m \u001b[39mself\u001b[39m\u001b[39m.\u001b[39m_num_yielded \u001b[39m+\u001b[39m\u001b[39m=\u001b[39m \u001b[39m1\u001b[39m\n\u001b[0;32m    683\u001b[0m \u001b[39mif\u001b[39;00m \u001b[39mself\u001b[39m\u001b[39m.\u001b[39m_dataset_kind \u001b[39m==\u001b[39m _DatasetKind\u001b[39m.\u001b[39mIterable \u001b[39mand\u001b[39;00m \\\n\u001b[0;32m    684\u001b[0m         \u001b[39mself\u001b[39m\u001b[39m.\u001b[39m_IterableDataset_len_called \u001b[39mis\u001b[39;00m \u001b[39mnot\u001b[39;00m \u001b[39mNone\u001b[39;00m \u001b[39mand\u001b[39;00m \\\n\u001b[0;32m    685\u001b[0m         \u001b[39mself\u001b[39m\u001b[39m.\u001b[39m_num_yielded \u001b[39m>\u001b[39m \u001b[39mself\u001b[39m\u001b[39m.\u001b[39m_IterableDataset_len_called:\n",
      "File \u001b[1;32mc:\\Users\\flori\\anaconda3\\envs\\ki_env\\lib\\site-packages\\torch\\utils\\data\\dataloader.py:721\u001b[0m, in \u001b[0;36m_SingleProcessDataLoaderIter._next_data\u001b[1;34m(self)\u001b[0m\n\u001b[0;32m    719\u001b[0m \u001b[39mdef\u001b[39;00m \u001b[39m_next_data\u001b[39m(\u001b[39mself\u001b[39m):\n\u001b[0;32m    720\u001b[0m     index \u001b[39m=\u001b[39m \u001b[39mself\u001b[39m\u001b[39m.\u001b[39m_next_index()  \u001b[39m# may raise StopIteration\u001b[39;00m\n\u001b[1;32m--> 721\u001b[0m     data \u001b[39m=\u001b[39m \u001b[39mself\u001b[39;49m\u001b[39m.\u001b[39;49m_dataset_fetcher\u001b[39m.\u001b[39;49mfetch(index)  \u001b[39m# may raise StopIteration\u001b[39;00m\n\u001b[0;32m    722\u001b[0m     \u001b[39mif\u001b[39;00m \u001b[39mself\u001b[39m\u001b[39m.\u001b[39m_pin_memory:\n\u001b[0;32m    723\u001b[0m         data \u001b[39m=\u001b[39m _utils\u001b[39m.\u001b[39mpin_memory\u001b[39m.\u001b[39mpin_memory(data, \u001b[39mself\u001b[39m\u001b[39m.\u001b[39m_pin_memory_device)\n",
      "File \u001b[1;32mc:\\Users\\flori\\anaconda3\\envs\\ki_env\\lib\\site-packages\\torch\\utils\\data\\_utils\\fetch.py:52\u001b[0m, in \u001b[0;36m_MapDatasetFetcher.fetch\u001b[1;34m(self, possibly_batched_index)\u001b[0m\n\u001b[0;32m     50\u001b[0m \u001b[39melse\u001b[39;00m:\n\u001b[0;32m     51\u001b[0m     data \u001b[39m=\u001b[39m \u001b[39mself\u001b[39m\u001b[39m.\u001b[39mdataset[possibly_batched_index]\n\u001b[1;32m---> 52\u001b[0m \u001b[39mreturn\u001b[39;00m \u001b[39mself\u001b[39;49m\u001b[39m.\u001b[39;49mcollate_fn(data)\n",
      "\u001b[1;32mc:\\Users\\flori\\Documents\\KI\\ki_projekt\\team_ki_klassifikation\\NeuronalesNetz.ipynb Zelle 57\u001b[0m in \u001b[0;36mcollate_batch\u001b[1;34m(batch)\u001b[0m\n\u001b[0;32m      <a href='vscode-notebook-cell:/c%3A/Users/flori/Documents/KI/ki_projekt/team_ki_klassifikation/NeuronalesNetz.ipynb#Y205sZmlsZQ%3D%3D?line=1'>2</a>\u001b[0m label_list, text_list \u001b[39m=\u001b[39m [], []\n\u001b[0;32m      <a href='vscode-notebook-cell:/c%3A/Users/flori/Documents/KI/ki_projekt/team_ki_klassifikation/NeuronalesNetz.ipynb#Y205sZmlsZQ%3D%3D?line=3'>4</a>\u001b[0m \u001b[39mfor\u001b[39;00m (_text,_label) \u001b[39min\u001b[39;00m batch:\n\u001b[0;32m      <a href='vscode-notebook-cell:/c%3A/Users/flori/Documents/KI/ki_projekt/team_ki_klassifikation/NeuronalesNetz.ipynb#Y205sZmlsZQ%3D%3D?line=4'>5</a>\u001b[0m \n\u001b[0;32m      <a href='vscode-notebook-cell:/c%3A/Users/flori/Documents/KI/ki_projekt/team_ki_klassifikation/NeuronalesNetz.ipynb#Y205sZmlsZQ%3D%3D?line=5'>6</a>\u001b[0m     \u001b[39m# Vorverarbeitung der Label\u001b[39;00m\n\u001b[1;32m----> <a href='vscode-notebook-cell:/c%3A/Users/flori/Documents/KI/ki_projekt/team_ki_klassifikation/NeuronalesNetz.ipynb#Y205sZmlsZQ%3D%3D?line=6'>7</a>\u001b[0m     label_list\u001b[39m.\u001b[39mappend(label_pipeline(_label))\n\u001b[0;32m      <a href='vscode-notebook-cell:/c%3A/Users/flori/Documents/KI/ki_projekt/team_ki_klassifikation/NeuronalesNetz.ipynb#Y205sZmlsZQ%3D%3D?line=8'>9</a>\u001b[0m     \u001b[39m# Vorverarbeitung der Texte\u001b[39;00m\n\u001b[0;32m     <a href='vscode-notebook-cell:/c%3A/Users/flori/Documents/KI/ki_projekt/team_ki_klassifikation/NeuronalesNetz.ipynb#Y205sZmlsZQ%3D%3D?line=9'>10</a>\u001b[0m     processed_text \u001b[39m=\u001b[39m encode(_text, vocab)\n",
      "\u001b[1;32mc:\\Users\\flori\\Documents\\KI\\ki_projekt\\team_ki_klassifikation\\NeuronalesNetz.ipynb Zelle 57\u001b[0m in \u001b[0;36m<lambda>\u001b[1;34m(x)\u001b[0m\n\u001b[1;32m----> <a href='vscode-notebook-cell:/c%3A/Users/flori/Documents/KI/ki_projekt/team_ki_klassifikation/NeuronalesNetz.ipynb#Y205sZmlsZQ%3D%3D?line=0'>1</a>\u001b[0m label_pipeline \u001b[39m=\u001b[39m \u001b[39mlambda\u001b[39;00m x: \u001b[39mint\u001b[39;49m(x) \u001b[39m-\u001b[39m\u001b[39m1\u001b[39m\n",
      "\u001b[1;31mValueError\u001b[0m: invalid literal for int() with base 10: 'Shop, Bistro'"
     ]
    }
   ],
   "source": [
    "valid_accuracy = torchmetrics.Accuracy().to(device)\n",
    "\n",
    "with torch.no_grad():\n",
    "    for (text, label) in test_loader:\n",
    "        # Vorhersage wird für das Model erzeugt\n",
    "        pred = model(text)\n",
    "        valid_accuracy.update(pred, label)\n",
    "    total_valid_accuracy = valid_accuracy.compute()"
   ]
  },
  {
   "cell_type": "code",
   "execution_count": null,
   "metadata": {},
   "outputs": [
    {
     "ename": "NameError",
     "evalue": "name 'total_valid_accuracy' is not defined",
     "output_type": "error",
     "traceback": [
      "\u001b[1;31m---------------------------------------------------------------------------\u001b[0m",
      "\u001b[1;31mNameError\u001b[0m                                 Traceback (most recent call last)",
      "\u001b[1;32mc:\\Users\\flori\\Documents\\KI\\ki_projekt\\team_ki_klassifikation\\NeuronalesNetz.ipynb Zelle 58\u001b[0m in \u001b[0;36m<cell line: 1>\u001b[1;34m()\u001b[0m\n\u001b[1;32m----> <a href='vscode-notebook-cell:/c%3A/Users/flori/Documents/KI/ki_projekt/team_ki_klassifikation/NeuronalesNetz.ipynb#Y206sZmlsZQ%3D%3D?line=0'>1</a>\u001b[0m total_valid_accuracy\n",
      "\u001b[1;31mNameError\u001b[0m: name 'total_valid_accuracy' is not defined"
     ]
    }
   ],
   "source": [
    "total_valid_accuracy"
   ]
  },
  {
   "cell_type": "code",
   "execution_count": null,
   "metadata": {},
   "outputs": [],
   "source": []
  }
 ],
 "metadata": {
  "kernelspec": {
   "display_name": "Python 3.10.6 ('ki_env')",
   "language": "python",
   "name": "python3"
  },
  "language_info": {
   "codemirror_mode": {
    "name": "ipython",
    "version": 3
   },
   "file_extension": ".py",
   "mimetype": "text/x-python",
   "name": "python",
   "nbconvert_exporter": "python",
   "pygments_lexer": "ipython3",
   "version": "3.10.6"
  },
  "orig_nbformat": 4,
  "vscode": {
   "interpreter": {
    "hash": "098892d48f3e025e747a38eef60a03c94d60c10d6bd544bd547a6cb3074817d5"
   }
  }
 },
 "nbformat": 4,
 "nbformat_minor": 2
}
